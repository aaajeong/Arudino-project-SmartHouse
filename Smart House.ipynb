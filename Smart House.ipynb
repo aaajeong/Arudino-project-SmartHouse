{
 "cells": [
  {
   "cell_type": "code",
   "execution_count": null,
   "metadata": {},
   "outputs": [],
   "source": [
    "import serial"
   ]
  },
  {
   "cell_type": "code",
   "execution_count": null,
   "metadata": {},
   "outputs": [],
   "source": [
    "import speech_recognition as sr"
   ]
  },
  {
   "cell_type": "code",
   "execution_count": null,
   "metadata": {},
   "outputs": [],
   "source": [
    "arduino = serial.Serial('COM10',9600)"
   ]
  },
  {
   "cell_type": "code",
   "execution_count": null,
   "metadata": {},
   "outputs": [],
   "source": [
    "while(1):\n",
    "    r = sr.Recognizer()\n",
    "\n",
    "    with sr.Microphone() as source:\n",
    "        print('Speak Anything:')\n",
    "        audio = r.listen(source, timeout=1, phrase_time_limit=10)\n",
    "\n",
    "    try:\n",
    "        text = r.recognize_google(audio)\n",
    "        print('You said: {}'.format(text))\n",
    "        c=text\n",
    "        if c =='q':\n",
    "            break\n",
    "        else:\n",
    "            c=c.encode('utf-8')\n",
    "            arduino.write(c)\n",
    "    except:\n",
    "        print('Sorry could not recognize your voice')"
   ]
  },
  {
   "cell_type": "code",
   "execution_count": null,
   "metadata": {},
   "outputs": [],
   "source": [
    "#     Serial.println( \"-----------------\" );  \n",
    "#     Serial.println( \"available command:\" );  \n",
    "#     Serial.println( \"turn on all\" ); \n",
    "#     Serial.println( \"turn off all\" ); \n",
    "#     Serial.println( \"turn on the green light\" );  \n",
    "#     Serial.println( \"turn off the green light\" );  \n",
    "#     Serial.println( \"turn on the redn light\" );  \n",
    "#     Serial.println( \"turn off the red light\" );  \n",
    "#     Serial.println( \"turn on the yellow light\" );  \n",
    "#     Serial.println( \"turn off the yellow light\" );  \n",
    "#     Serial.println( \"-----------------\" );"
   ]
  }
 ],
 "metadata": {
  "kernelspec": {
   "display_name": "Python 3",
   "language": "python",
   "name": "python3"
  },
  "language_info": {
   "codemirror_mode": {
    "name": "ipython",
    "version": 3
   },
   "file_extension": ".py",
   "mimetype": "text/x-python",
   "name": "python",
   "nbconvert_exporter": "python",
   "pygments_lexer": "ipython3",
   "version": "3.7.1"
  }
 },
 "nbformat": 4,
 "nbformat_minor": 2
}
